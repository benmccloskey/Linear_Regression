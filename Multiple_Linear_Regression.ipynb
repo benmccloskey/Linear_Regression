{
 "cells": [
  {
   "cell_type": "code",
   "execution_count": 32,
   "id": "5f5f8c76",
   "metadata": {},
   "outputs": [],
   "source": [
    "#Import Libraries\n",
    "import pandas as pd \n",
    "import numpy as np \n",
    "import matplotlib.pyplot as plt\n",
    "from sklearn.linear_model import LinearRegression\n",
    "import seaborn as sns \n",
    "from statsmodels.formula.api import ols\n",
    "from statsmodels.stats.anova import anova_lm"
   ]
  },
  {
   "cell_type": "code",
   "execution_count": 33,
   "id": "688aaf32",
   "metadata": {},
   "outputs": [],
   "source": [
    "#Load in Data\n",
    "df = pd.read_excel('Hospital_dataset.xlsx')"
   ]
  },
  {
   "cell_type": "code",
   "execution_count": 34,
   "id": "da50d085",
   "metadata": {},
   "outputs": [
    {
     "data": {
      "text/html": [
       "<div>\n",
       "<style scoped>\n",
       "    .dataframe tbody tr th:only-of-type {\n",
       "        vertical-align: middle;\n",
       "    }\n",
       "\n",
       "    .dataframe tbody tr th {\n",
       "        vertical-align: top;\n",
       "    }\n",
       "\n",
       "    .dataframe thead th {\n",
       "        text-align: right;\n",
       "    }\n",
       "</style>\n",
       "<table border=\"1\" class=\"dataframe\">\n",
       "  <thead>\n",
       "    <tr style=\"text-align: right;\">\n",
       "      <th></th>\n",
       "      <th>Xray</th>\n",
       "      <th>BedDays</th>\n",
       "      <th>Length</th>\n",
       "      <th>Hours</th>\n",
       "    </tr>\n",
       "  </thead>\n",
       "  <tbody>\n",
       "    <tr>\n",
       "      <th>0</th>\n",
       "      <td>2463</td>\n",
       "      <td>472.92</td>\n",
       "      <td>4.45</td>\n",
       "      <td>566.52</td>\n",
       "    </tr>\n",
       "    <tr>\n",
       "      <th>1</th>\n",
       "      <td>2048</td>\n",
       "      <td>1339.75</td>\n",
       "      <td>6.92</td>\n",
       "      <td>696.82</td>\n",
       "    </tr>\n",
       "    <tr>\n",
       "      <th>2</th>\n",
       "      <td>3940</td>\n",
       "      <td>620.25</td>\n",
       "      <td>4.28</td>\n",
       "      <td>1033.15</td>\n",
       "    </tr>\n",
       "    <tr>\n",
       "      <th>3</th>\n",
       "      <td>6505</td>\n",
       "      <td>568.33</td>\n",
       "      <td>3.90</td>\n",
       "      <td>1603.62</td>\n",
       "    </tr>\n",
       "    <tr>\n",
       "      <th>4</th>\n",
       "      <td>5723</td>\n",
       "      <td>1497.60</td>\n",
       "      <td>5.50</td>\n",
       "      <td>1611.37</td>\n",
       "    </tr>\n",
       "  </tbody>\n",
       "</table>\n",
       "</div>"
      ],
      "text/plain": [
       "   Xray  BedDays  Length    Hours\n",
       "0  2463   472.92    4.45   566.52\n",
       "1  2048  1339.75    6.92   696.82\n",
       "2  3940   620.25    4.28  1033.15\n",
       "3  6505   568.33    3.90  1603.62\n",
       "4  5723  1497.60    5.50  1611.37"
      ]
     },
     "execution_count": 34,
     "metadata": {},
     "output_type": "execute_result"
    }
   ],
   "source": [
    "df.head()"
   ]
  },
  {
   "cell_type": "code",
   "execution_count": 35,
   "id": "2c4a4052",
   "metadata": {},
   "outputs": [
    {
     "data": {
      "text/plain": [
       "Hours      1.000000\n",
       "BedDays    0.985992\n",
       "Xray       0.945173\n",
       "Length     0.578580\n",
       "Name: Hours, dtype: float64"
      ]
     },
     "execution_count": 35,
     "metadata": {},
     "output_type": "execute_result"
    }
   ],
   "source": [
    "#Correlation \n",
    "df.corr()['Hours'].sort_values(ascending=False)"
   ]
  },
  {
   "cell_type": "code",
   "execution_count": 36,
   "id": "8ca23896",
   "metadata": {},
   "outputs": [],
   "source": [
    "#Create x and y values\n",
    "X = df[['Xray','BedDays','Length']]\n",
    "y = df['Hours']"
   ]
  },
  {
   "cell_type": "code",
   "execution_count": 37,
   "id": "03be27ff",
   "metadata": {},
   "outputs": [
    {
     "data": {
      "text/plain": [
       "<AxesSubplot:xlabel='Xray', ylabel='Hours'>"
      ]
     },
     "execution_count": 37,
     "metadata": {},
     "output_type": "execute_result"
    },
    {
     "data": {
      "image/png": "[encoded data removed]",
      "text/plain": [
       "<Figure size 432x288 with 1 Axes>"
      ]
     },
     "metadata": {
      "needs_background": "light"
     },
     "output_type": "display_data"
    }
   ],
   "source": [
    "#XRays vs. Hours Regplot \n",
    "sns.regplot(x='Xray',y='Hours',data=df)"
   ]
  },
  {
   "cell_type": "code",
   "execution_count": 38,
   "id": "1880bcdc",
   "metadata": {},
   "outputs": [
    {
     "data": {
      "text/plain": [
       "<AxesSubplot:xlabel='BedDays', ylabel='Hours'>"
      ]
     },
     "execution_count": 38,
     "metadata": {},
     "output_type": "execute_result"
    },
    {
     "data": {
      "image/png": "[encoded data removed]",
      "text/plain": [
       "<Figure size 432x288 with 1 Axes>"
      ]
     },
     "metadata": {
      "needs_background": "light"
     },
     "output_type": "display_data"
    }
   ],
   "source": [
    "#BedDays vs. Hours regplot \n",
    "sns.regplot(x='BedDays',y='Hours',data=df)"
   ]
  },
  {
   "cell_type": "code",
   "execution_count": 39,
   "id": "32cc0c47",
   "metadata": {},
   "outputs": [
    {
     "data": {
      "text/plain": [
       "<AxesSubplot:xlabel='Length', ylabel='Hours'>"
      ]
     },
     "execution_count": 39,
     "metadata": {},
     "output_type": "execute_result"
    },
    {
     "data": {
      "image/png": "[encoded data removed]",
      "text/plain": [
       "<Figure size 432x288 with 1 Axes>"
      ]
     },
     "metadata": {
      "needs_background": "light"
     },
     "output_type": "display_data"
    }
   ],
   "source": [
    "#Length vs. Hours Regplot \n",
    "sns.regplot(x='Length',y='Hours',data=df)"
   ]
  },
  {
   "cell_type": "markdown",
   "id": "8447b43d",
   "metadata": {},
   "source": [
    "Fitting a Multiple Linear Regression Model using LinearRegression()"
   ]
  },
  {
   "cell_type": "code",
   "execution_count": 40,
   "id": "f311cb32",
   "metadata": {},
   "outputs": [
    {
     "name": "stdout",
     "output_type": "stream",
     "text": [
      "The R^2 value is: 0.9900681747467439\n"
     ]
    }
   ],
   "source": [
    "#Linear Regression model \n",
    "lm  = LinearRegression()\n",
    "lm.fit(X,y)\n",
    "\n",
    "#R^2 \n",
    "print('The R^2 value is:', lm.score(X,y))"
   ]
  },
  {
   "cell_type": "code",
   "execution_count": 44,
   "id": "6d541529",
   "metadata": {},
   "outputs": [
    {
     "name": "stdout",
     "output_type": "stream",
     "text": [
      "[  688.40938033   721.84831963   965.3930018   1172.46404842\n",
      "  1526.78024803  1993.86901363  1676.55785745  1791.4054233\n",
      "  2798.76102497  4191.33347911  3190.95715788  4364.50214339\n",
      "  4364.22877732  8713.30742403 12080.8637025  15133.02637061\n",
      " 19260.4526276 ]\n"
     ]
    }
   ],
   "source": [
    "#Predictions | Error\n",
    "predictions = lm.predict(X)\n",
    "\n",
    "print(predictions)"
   ]
  },
  {
   "cell_type": "markdown",
   "id": "9ea536fd",
   "metadata": {},
   "source": [
    "Using Statsmodels to fit a Linear Regression"
   ]
  },
  {
   "cell_type": "code",
   "execution_count": 49,
   "id": "3fd9b0dc",
   "metadata": {},
   "outputs": [
    {
     "name": "stdout",
     "output_type": "stream",
     "text": [
      "                            OLS Regression Results                            \n",
      "==============================================================================\n",
      "Dep. Variable:                      y   R-squared:                       0.990\n",
      "Model:                            OLS   Adj. R-squared:                  0.988\n",
      "Method:                 Least Squares   F-statistic:                     432.0\n",
      "Date:                Fri, 21 Jan 2022   Prob (F-statistic):           2.89e-13\n",
      "Time:                        09:08:02   Log-Likelihood:                -131.00\n",
      "No. Observations:                  17   AIC:                             270.0\n",
      "Df Residuals:                      13   BIC:                             273.3\n",
      "Df Model:                           3                                         \n",
      "Covariance Type:            nonrobust                                         \n",
      "==============================================================================\n",
      "                 coef    std err          t      P>|t|      [0.025      0.975]\n",
      "------------------------------------------------------------------------------\n",
      "Intercept   1523.3892    786.898      1.936      0.075    -176.600    3223.378\n",
      "x[0]           0.0530      0.020      2.637      0.021       0.010       0.096\n",
      "x[1]           0.9785      0.105      9.305      0.000       0.751       1.206\n",
      "x[2]        -320.9508    153.192     -2.095      0.056    -651.902      10.001\n",
      "==============================================================================\n",
      "Omnibus:                       12.322   Durbin-Watson:                   2.546\n",
      "Prob(Omnibus):                  0.002   Jarque-Bera (JB):                9.490\n",
      "Skew:                           1.385   Prob(JB):                      0.00869\n",
      "Kurtosis:                       5.393   Cond. No.                     1.51e+05\n",
      "==============================================================================\n",
      "\n",
      "Notes:\n",
      "[1] Standard Errors assume that the covariance matrix of the errors is correctly specified.\n",
      "[2] The condition number is large, 1.51e+05. This might indicate that there are\n",
      "strong multicollinearity or other numerical problems.\n",
      "\n",
      "ANOVA results\n",
      "            df        sum_sq       mean_sq           F        PR(>F)\n",
      "x          3.0  4.897991e+08  1.632664e+08  431.974518  2.894439e-13\n",
      "Residual  13.0  4.913399e+06  3.779537e+05         NaN           NaN\n"
     ]
    },
    {
     "name": "stderr",
     "output_type": "stream",
     "text": [
      "C:\\Users\\Ben\\anaconda3\\lib\\site-packages\\scipy\\stats\\stats.py:1541: UserWarning: kurtosistest only valid for n>=20 ... continuing anyway, n=17\n",
      "  warnings.warn(\"kurtosistest only valid for n>=20 ... continuing \"\n"
     ]
    }
   ],
   "source": [
    "# Fit the model\n",
    "y= df['Hours']\n",
    "x = df[['Xray','BedDays','Length']]\n",
    "\n",
    "model = ols(\"y ~ x\", df).fit()\n",
    "\n",
    "# Print the summary\n",
    "print(model.summary())\n",
    "\n",
    "# Peform analysis of variance on fitted linear model\n",
    "anova = anova_lm(model)\n",
    "\n",
    "print('\\nANOVA results')\n",
    "print(anova)"
   ]
  },
  {
   "cell_type": "code",
   "execution_count": 50,
   "id": "eea4bbf4",
   "metadata": {},
   "outputs": [
    {
     "name": "stdout",
     "output_type": "stream",
     "text": [
      "The intercept is 1523.3892356760002\n",
      "The beta 1 coefficient is 0.05298732886683016\n",
      "The beta 2 coefficient is 0.9784816157566385\n",
      "The beta 3 coefficent is -320.9508251836977\n"
     ]
    }
   ],
   "source": [
    "#Parameter Values\n",
    "print('The intercept is',model.params[0])\n",
    "print('The beta 1 coefficient is',model.params[1])\n",
    "print('The beta 2 coefficient is', model.params[2])\n",
    "print('The beta 3 coefficent is', model.params[3])"
   ]
  },
  {
   "cell_type": "code",
   "execution_count": 51,
   "id": "90a0fac0",
   "metadata": {},
   "outputs": [
    {
     "name": "stdout",
     "output_type": "stream",
     "text": [
      "The prediction is 16064.554777331045 hours.\n"
     ]
    }
   ],
   "source": [
    "#Making a prediction for X = (56194,14077.88,6.89)\n",
    "\n",
    "x_rays = 56194\n",
    "bed_days = 14077.88\n",
    "length = 6.89\n",
    "\n",
    "pred = model.params[0] + model.params[1]*x_rays + model.params[2]*bed_days + model.params[3]*length\n",
    "print('The prediction is',pred, 'hours.')"
   ]
  }
 ],
 "metadata": {
  "kernelspec": {
   "display_name": "Python 3 (ipykernel)",
   "language": "python",
   "name": "python3"
  },
  "language_info": {
   "codemirror_mode": {
    "name": "ipython",
    "version": 3
   },
   "file_extension": ".py",
   "mimetype": "text/x-python",
   "name": "python",
   "nbconvert_exporter": "python",
   "pygments_lexer": "ipython3",
   "version": "3.9.7"
  }
 },
 "nbformat": 4,
 "nbformat_minor": 5
}
